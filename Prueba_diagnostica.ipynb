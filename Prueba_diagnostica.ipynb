{
  "nbformat": 4,
  "nbformat_minor": 0,
  "metadata": {
    "colab": {
      "provenance": [],
      "authorship_tag": "ABX9TyOxqqu/hMOWubAK8xbeGP16",
      "include_colab_link": true
    },
    "kernelspec": {
      "name": "python3",
      "display_name": "Python 3"
    },
    "language_info": {
      "name": "python"
    }
  },
  "cells": [
    {
      "cell_type": "markdown",
      "metadata": {
        "id": "view-in-github",
        "colab_type": "text"
      },
      "source": [
        "<a href=\"https://colab.research.google.com/github/SantiagoArce7/CIENCIA_DATOS_2025/blob/main/Prueba_diagnostica.ipynb\" target=\"_parent\"><img src=\"https://colab.research.google.com/assets/colab-badge.svg\" alt=\"Open In Colab\"/></a>"
      ]
    },
    {
      "cell_type": "markdown",
      "source": [
        "#Estructuras de Decisión\n",
        "## 1. Escribe un programa que reciba un número e indique si es positivo"
      ],
      "metadata": {
        "id": "ndkcxqq1mrX-"
      }
    },
    {
      "cell_type": "code",
      "execution_count": 42,
      "metadata": {
        "colab": {
          "base_uri": "https://localhost:8080/",
          "height": 373
        },
        "id": "W4woTsH8kB3i",
        "outputId": "d6b306cd-6234-4dbc-cb3e-d6f2c54a86e2"
      },
      "outputs": [
        {
          "output_type": "error",
          "ename": "KeyboardInterrupt",
          "evalue": "Interrupted by user",
          "traceback": [
            "\u001b[0;31m---------------------------------------------------------------------------\u001b[0m",
            "\u001b[0;31mKeyboardInterrupt\u001b[0m                         Traceback (most recent call last)",
            "\u001b[0;32m/tmp/ipython-input-3608367959.py\u001b[0m in \u001b[0;36m<cell line: 0>\u001b[0;34m()\u001b[0m\n\u001b[0;32m----> 1\u001b[0;31m \u001b[0mnumero\u001b[0m \u001b[0;34m=\u001b[0m \u001b[0mint\u001b[0m\u001b[0;34m(\u001b[0m\u001b[0minput\u001b[0m\u001b[0;34m(\u001b[0m\u001b[0;34m\"Escribe un número \"\u001b[0m\u001b[0;34m)\u001b[0m\u001b[0;34m)\u001b[0m\u001b[0;34m\u001b[0m\u001b[0;34m\u001b[0m\u001b[0m\n\u001b[0m\u001b[1;32m      2\u001b[0m \u001b[0;32mif\u001b[0m \u001b[0;34m(\u001b[0m\u001b[0mnumero\u001b[0m\u001b[0;34m)\u001b[0m \u001b[0;34m>=\u001b[0m \u001b[0;36m0\u001b[0m \u001b[0;34m:\u001b[0m\u001b[0;34m\u001b[0m\u001b[0;34m\u001b[0m\u001b[0m\n\u001b[1;32m      3\u001b[0m   \u001b[0mprint\u001b[0m\u001b[0;34m(\u001b[0m\u001b[0;34m\"El número es positivo\"\u001b[0m\u001b[0;34m)\u001b[0m\u001b[0;34m\u001b[0m\u001b[0;34m\u001b[0m\u001b[0m\n\u001b[1;32m      4\u001b[0m \u001b[0;32melse\u001b[0m\u001b[0;34m:\u001b[0m\u001b[0;34m\u001b[0m\u001b[0;34m\u001b[0m\u001b[0m\n\u001b[1;32m      5\u001b[0m   \u001b[0mprint\u001b[0m\u001b[0;34m(\u001b[0m\u001b[0;34m\"El número es negativo\"\u001b[0m\u001b[0;34m)\u001b[0m\u001b[0;34m\u001b[0m\u001b[0;34m\u001b[0m\u001b[0m\n",
            "\u001b[0;32m/usr/local/lib/python3.11/dist-packages/ipykernel/kernelbase.py\u001b[0m in \u001b[0;36mraw_input\u001b[0;34m(self, prompt)\u001b[0m\n\u001b[1;32m   1175\u001b[0m                 \u001b[0;34m\"raw_input was called, but this frontend does not support input requests.\"\u001b[0m\u001b[0;34m\u001b[0m\u001b[0;34m\u001b[0m\u001b[0m\n\u001b[1;32m   1176\u001b[0m             )\n\u001b[0;32m-> 1177\u001b[0;31m         return self._input_request(\n\u001b[0m\u001b[1;32m   1178\u001b[0m             \u001b[0mstr\u001b[0m\u001b[0;34m(\u001b[0m\u001b[0mprompt\u001b[0m\u001b[0;34m)\u001b[0m\u001b[0;34m,\u001b[0m\u001b[0;34m\u001b[0m\u001b[0;34m\u001b[0m\u001b[0m\n\u001b[1;32m   1179\u001b[0m             \u001b[0mself\u001b[0m\u001b[0;34m.\u001b[0m\u001b[0m_parent_ident\u001b[0m\u001b[0;34m[\u001b[0m\u001b[0;34m\"shell\"\u001b[0m\u001b[0;34m]\u001b[0m\u001b[0;34m,\u001b[0m\u001b[0;34m\u001b[0m\u001b[0;34m\u001b[0m\u001b[0m\n",
            "\u001b[0;32m/usr/local/lib/python3.11/dist-packages/ipykernel/kernelbase.py\u001b[0m in \u001b[0;36m_input_request\u001b[0;34m(self, prompt, ident, parent, password)\u001b[0m\n\u001b[1;32m   1217\u001b[0m             \u001b[0;32mexcept\u001b[0m \u001b[0mKeyboardInterrupt\u001b[0m\u001b[0;34m:\u001b[0m\u001b[0;34m\u001b[0m\u001b[0;34m\u001b[0m\u001b[0m\n\u001b[1;32m   1218\u001b[0m                 \u001b[0;31m# re-raise KeyboardInterrupt, to truncate traceback\u001b[0m\u001b[0;34m\u001b[0m\u001b[0;34m\u001b[0m\u001b[0m\n\u001b[0;32m-> 1219\u001b[0;31m                 \u001b[0;32mraise\u001b[0m \u001b[0mKeyboardInterrupt\u001b[0m\u001b[0;34m(\u001b[0m\u001b[0;34m\"Interrupted by user\"\u001b[0m\u001b[0;34m)\u001b[0m \u001b[0;32mfrom\u001b[0m \u001b[0;32mNone\u001b[0m\u001b[0;34m\u001b[0m\u001b[0;34m\u001b[0m\u001b[0m\n\u001b[0m\u001b[1;32m   1220\u001b[0m             \u001b[0;32mexcept\u001b[0m \u001b[0mException\u001b[0m\u001b[0;34m:\u001b[0m\u001b[0;34m\u001b[0m\u001b[0;34m\u001b[0m\u001b[0m\n\u001b[1;32m   1221\u001b[0m                 \u001b[0mself\u001b[0m\u001b[0;34m.\u001b[0m\u001b[0mlog\u001b[0m\u001b[0;34m.\u001b[0m\u001b[0mwarning\u001b[0m\u001b[0;34m(\u001b[0m\u001b[0;34m\"Invalid Message:\"\u001b[0m\u001b[0;34m,\u001b[0m \u001b[0mexc_info\u001b[0m\u001b[0;34m=\u001b[0m\u001b[0;32mTrue\u001b[0m\u001b[0;34m)\u001b[0m\u001b[0;34m\u001b[0m\u001b[0;34m\u001b[0m\u001b[0m\n",
            "\u001b[0;31mKeyboardInterrupt\u001b[0m: Interrupted by user"
          ]
        }
      ],
      "source": [
        "numero = int(input(\"Escribe un número \"))\n",
        "if (numero) >= 0 :\n",
        "  print(\"El número es positivo\")\n",
        "else:\n",
        "  print(\"El número es negativo\")"
      ]
    },
    {
      "cell_type": "markdown",
      "source": [
        "##2. Escribe un programa que reciba una edad y determine si la persona es mayor de edad"
      ],
      "metadata": {
        "id": "2WL-HKs3ohkE"
      }
    },
    {
      "cell_type": "code",
      "source": [
        "edad = int(input(\"Escribe tu edad \"))\n",
        "if (edad) >= 18 :\n",
        "  print(\"Eres mayor de edad\")\n",
        "else:\n",
        "  print(\"Eres menor de edad\")"
      ],
      "metadata": {
        "id": "R7mJNRmror9F"
      },
      "execution_count": null,
      "outputs": []
    },
    {
      "cell_type": "markdown",
      "source": [
        "##3. Escribe un programa que reciba dos números e imprima el mayor"
      ],
      "metadata": {
        "id": "qvYDj0m5o768"
      }
    },
    {
      "cell_type": "code",
      "source": [
        "n1 = int(input(\"Escribe el primer número \"))\n",
        "n2 = int(input(\"Escribe el segundo número \"))\n",
        "if (n1) > (n2) :\n",
        "  print(\"El primer número es el mayor\")\n",
        "  print(n1)\n",
        "else:\n",
        "  print(\"El segundo número es el mayor\")\n",
        "  print(n2)"
      ],
      "metadata": {
        "id": "rotevscYpAqe"
      },
      "execution_count": null,
      "outputs": []
    },
    {
      "cell_type": "markdown",
      "source": [
        "##4. Escribe un programa que reciba una calificación (0-100) e indique si es Aprobado (>=60) o Reprobado."
      ],
      "metadata": {
        "id": "59dGZQbgp_6k"
      }
    },
    {
      "cell_type": "code",
      "source": [
        "nota = int(input(\"Escribe tu nota \"))\n",
        "if (nota) >= 60 :\n",
        "  print(\"Aprobado\")\n",
        "else:\n",
        "  print(\"Reprobado\")"
      ],
      "metadata": {
        "id": "JoHqdqMBqB-7"
      },
      "execution_count": null,
      "outputs": []
    },
    {
      "cell_type": "markdown",
      "source": [
        "##5. Escribe un programa que determine si un número es par o impar."
      ],
      "metadata": {
        "id": "H9P-pT6vqOkD"
      }
    },
    {
      "cell_type": "code",
      "source": [
        "numero = int(input(\"Escribe un número \"))\n",
        "if (numero) % 2 == 0 :\n",
        "  print(\"El número es par\")\n",
        "else:\n",
        "  print(\"El número es impar\")"
      ],
      "metadata": {
        "id": "smbQ7B1oqTBj"
      },
      "execution_count": null,
      "outputs": []
    },
    {
      "cell_type": "markdown",
      "source": [
        "## 5. Escribe un programa que determine si un número es par o impar."
      ],
      "metadata": {
        "id": "qZUAdn2HqtgT"
      }
    },
    {
      "cell_type": "code",
      "source": [
        "n1 = int(input(\"Escribe el primer número \"))\n",
        "n2 = int(input(\"Escribe el segundo número \"))\n",
        "n3 = int(input(\"Escribe el tercer número \"))\n",
        "if (n1) > (n2) and (n1) > (n3) :\n",
        "  print(\"El primer número es el mayor\")\n",
        "  print(n1)\n",
        "elif (n2) > (n1) and (n2) > (n3) :\n",
        "  print(\"El segundo número es el mayor\")\n",
        "  print(n2)\n",
        "elif (n3) > (n1) and (n3) > (n2) :\n",
        "  print(\"El tercer número es el mayor\")\n",
        "  print(n3)\n",
        "else:\n",
        "  print(\"Los números son iguales\")"
      ],
      "metadata": {
        "id": "wpOW67Eqqx8L"
      },
      "execution_count": null,
      "outputs": []
    },
    {
      "cell_type": "markdown",
      "source": [
        "##7. Escribe un programa que reciba un año e indique si es bisiesto\n"
      ],
      "metadata": {
        "id": "9WzGDXvSsDiG"
      }
    },
    {
      "cell_type": "code",
      "source": [
        "año = int(input(\"Escribe un año \"))\n",
        "if (año) % 4 == 0 :\n",
        "  print(\"El año es bisiesto\")\n",
        "else:\n",
        "  print(\"El año no es bisiesto\")"
      ],
      "metadata": {
        "id": "k2pvFnXrsHwq"
      },
      "execution_count": null,
      "outputs": []
    },
    {
      "cell_type": "markdown",
      "source": [
        "##8. Escribe un programa que reciba una contraseña e indique si cumple con las siguientes reglas: más de 8 caracteres, contiene al menos un número y una letra mayúscula."
      ],
      "metadata": {
        "id": "bTXnZKpNsyCR"
      }
    },
    {
      "cell_type": "code",
      "source": [
        "contra = int(input(\"Escribe una contraseña \"))\n",
        "if (contra) >= 8 :"
      ],
      "metadata": {
        "id": "l_cxqu87s3JR"
      },
      "execution_count": null,
      "outputs": []
    },
    {
      "cell_type": "markdown",
      "source": [
        "##9. Escribe un programa que lea un número e imprima “Fizz” si es divisible por 3, “Buzz” si es divisible por 5 y “FizzBuzz” si es divisible por ambos.\n"
      ],
      "metadata": {
        "id": "tplSPtnqt85J"
      }
    },
    {
      "cell_type": "code",
      "source": [
        "numero = int(input(\"Escribe un Número \"))\n",
        "if (numero) %3 == 0 :\n",
        "  print(\"Fizz\")\n",
        "elif (numero) %5 == 0 :\n",
        "  print(\"FizzBuzz\")"
      ],
      "metadata": {
        "id": "YsGV8-0JuqKQ"
      },
      "execution_count": null,
      "outputs": []
    },
    {
      "cell_type": "markdown",
      "source": [
        "##10.\tEscribe un programa que simule un cajero automático: recibe el monto a retirar e imprime si la operación es posible en base al saldo disponible"
      ],
      "metadata": {
        "id": "n5b-TeRxvQcQ"
      }
    },
    {
      "cell_type": "code",
      "source": [
        "saldo = 10000\n",
        "retiro = int(input(\"Escribe el monto a retirar \"))\n",
        "if (retiro) <= (saldo) :\n",
        "  print(\"Puedes retirar el dinero\")\n",
        "else:\n",
        "  print(\"No puedes retirar el dinero\")"
      ],
      "metadata": {
        "id": "86N5YzCpvVJn"
      },
      "execution_count": null,
      "outputs": []
    },
    {
      "cell_type": "markdown",
      "source": [
        "#Estructuras de Repetición"
      ],
      "metadata": {
        "id": "O5lSI4BCvy1o"
      }
    },
    {
      "cell_type": "markdown",
      "source": [
        "##1.Escribe un programa que imprima los números del 1 al 10"
      ],
      "metadata": {
        "id": "DAfBGbpyv1mY"
      }
    },
    {
      "cell_type": "code",
      "source": [
        "for i in range(1,11):\n",
        "  print(i)"
      ],
      "metadata": {
        "colab": {
          "base_uri": "https://localhost:8080/"
        },
        "id": "M9vnA1MVv6DP",
        "outputId": "078d390e-e2e1-4401-d8b2-e4347afcf540"
      },
      "execution_count": 44,
      "outputs": [
        {
          "output_type": "stream",
          "name": "stdout",
          "text": [
            "1\n",
            "2\n",
            "3\n",
            "4\n",
            "5\n",
            "6\n",
            "7\n",
            "8\n",
            "9\n",
            "10\n"
          ]
        }
      ]
    },
    {
      "cell_type": "markdown",
      "source": [
        "##2. Escribe un programa que sume los números del 1 al 100."
      ],
      "metadata": {
        "id": "pcux5ZfIwbK3"
      }
    },
    {
      "cell_type": "code",
      "source": [
        "s=0\n",
        "for i in range(1,101):\n",
        "  s+=i\n",
        "print(s)"
      ],
      "metadata": {
        "colab": {
          "base_uri": "https://localhost:8080/"
        },
        "id": "H1I1VCwvwdrg",
        "outputId": "ead11948-ca80-43b9-db74-568af049b51f"
      },
      "execution_count": 52,
      "outputs": [
        {
          "output_type": "stream",
          "name": "stdout",
          "text": [
            "5050\n"
          ]
        }
      ]
    },
    {
      "cell_type": "markdown",
      "source": [
        "##3. Escribe un programa que imprima los múltiplos de 3 entre 1 y 30."
      ],
      "metadata": {
        "id": "jyPiFHEIwxSX"
      }
    },
    {
      "cell_type": "code",
      "source": [
        "for i in range(1,31):\n",
        "  if (i) %3 == 0 :\n",
        "    print(i)"
      ],
      "metadata": {
        "colab": {
          "base_uri": "https://localhost:8080/"
        },
        "id": "yzuROM3Vw0pX",
        "outputId": "1874d91f-9eef-453d-84f3-edd07c09d0c7"
      },
      "execution_count": 56,
      "outputs": [
        {
          "output_type": "stream",
          "name": "stdout",
          "text": [
            "3\n",
            "6\n",
            "9\n",
            "12\n",
            "15\n",
            "18\n",
            "21\n",
            "24\n",
            "27\n",
            "30\n"
          ]
        }
      ]
    },
    {
      "cell_type": "markdown",
      "source": [
        "##4. Escribe un programa que lea un número e imprima su tabla de multiplicar del 1 al 10."
      ],
      "metadata": {
        "id": "rG7fZZ-YyNMP"
      }
    },
    {
      "cell_type": "code",
      "source": [
        "numero = int(input(\"Escribe un número \"))\n",
        "for i in range(1,11):\n",
        "    print(f\"{numero} x {i} = {numero * i}\")"
      ],
      "metadata": {
        "colab": {
          "base_uri": "https://localhost:8080/"
        },
        "id": "UqAlVm44yQUO",
        "outputId": "4d1d4daf-ae9e-4d03-adc0-8f2aa29e0184"
      },
      "execution_count": 57,
      "outputs": [
        {
          "output_type": "stream",
          "name": "stdout",
          "text": [
            "Escribe un número 1\n",
            "1 x 1 = 1\n",
            "1 x 2 = 2\n",
            "1 x 3 = 3\n",
            "1 x 4 = 4\n",
            "1 x 5 = 5\n",
            "1 x 6 = 6\n",
            "1 x 7 = 7\n",
            "1 x 8 = 8\n",
            "1 x 9 = 9\n",
            "1 x 10 = 10\n"
          ]
        }
      ]
    },
    {
      "cell_type": "markdown",
      "source": [
        "##5. Escribe un programa que pida 5 números al usuario y calcule el promedio."
      ],
      "metadata": {
        "id": "vhS5ulBUymut"
      }
    },
    {
      "cell_type": "code",
      "source": [
        "n1 = int(input(\"Escribe un número \"))\n",
        "n2 = int(input(\"Escribe un número \"))\n",
        "n3 = int(input(\"Escribe un número \"))\n",
        "n4 = int(input(\"Escribe un número \"))\n",
        "n5 = int(input(\"Escribe un número \"))\n",
        "for i in range(1,6):\n",
        "  promedio = (n1+n2+n3+n4+n5)/5\n",
        "print(promedio)"
      ],
      "metadata": {
        "colab": {
          "base_uri": "https://localhost:8080/"
        },
        "id": "RUU273S0yvvV",
        "outputId": "49f0a938-fabc-4e93-e5d1-07bd690f2257"
      },
      "execution_count": 58,
      "outputs": [
        {
          "output_type": "stream",
          "name": "stdout",
          "text": [
            "Escribe un número 1\n",
            "Escribe un número 2\n",
            "Escribe un número 3\n",
            "Escribe un número 4\n",
            "Escribe un número 5\n",
            "3.0\n"
          ]
        }
      ]
    },
    {
      "cell_type": "markdown",
      "source": [
        "##6. Escribe un programa que cuente cuántos números pares hay entre 1 y un número ingresado"
      ],
      "metadata": {
        "id": "GDl8FUFHzC5F"
      }
    },
    {
      "cell_type": "code",
      "source": [
        "lista=[]\n",
        "numero = int(input(\"Escribe un número \"))\n",
        "for i in range(1,numero+1):\n",
        "  if (i) %2 == 0 :\n",
        "    lista.append(i)\n",
        "print(len(lista}))"
      ],
      "metadata": {
        "colab": {
          "base_uri": "https://localhost:8080/"
        },
        "id": "qCbXXO6kzFQd",
        "outputId": "c4f8ea59-a736-4064-b725-4edc10de6c99"
      },
      "execution_count": 69,
      "outputs": [
        {
          "output_type": "stream",
          "name": "stdout",
          "text": [
            "Escribe un número 8\n",
            "4\n"
          ]
        }
      ]
    },
    {
      "cell_type": "markdown",
      "source": [
        "##7. Escribe un programa que solicite contraseñas hasta que el usuario ingrese una válida, formada por su apellido y la longitud de su apellido (“Espinosa8”, por ejemplo)."
      ],
      "metadata": {
        "id": "skO0dfhV1CmM"
      }
    },
    {
      "cell_type": "code",
      "source": [],
      "metadata": {
        "colab": {
          "base_uri": "https://localhost:8080/"
        },
        "id": "d3zHM2pR1IN8",
        "outputId": "92a68da4-9d8b-483a-9138-0699f7dd9f3f"
      },
      "execution_count": 72,
      "outputs": [
        {
          "output_type": "stream",
          "name": "stdout",
          "text": [
            "Escribe un número: 8\n",
            "El número no es primo\n"
          ]
        }
      ]
    },
    {
      "cell_type": "markdown",
      "source": [
        "##8. Escribe un programa que imprima los primeros n números de la serie de Fibonacci"
      ],
      "metadata": {
        "id": "CEF66g9129nq"
      }
    },
    {
      "cell_type": "code",
      "source": [
        "numero = int(input(\"Escribe un número: \"))\n",
        "if numero <= 1:\n",
        "  print(\"El número no es primo\")\n",
        "else:\n",
        "  es_primo = True\n",
        "  for i in range(2, int(numero**0.5) + 1):\n",
        "    if numero % i == 0:\n",
        "      es_primo = False\n",
        "      break\n",
        "  if es_primo:\n",
        "    print(\"El número es primo\")\n",
        "  else:\n",
        "    print(\"El número no es primo\")"
      ],
      "metadata": {
        "id": "jr_S1tb-3IIi"
      },
      "execution_count": null,
      "outputs": []
    },
    {
      "cell_type": "markdown",
      "source": [
        "##9. Escribe un programa que determine si un número ingresado es primo.\n",
        "\n",
        "```\n",
        "# Tiene formato de código\n",
        "```\n",
        "\n"
      ],
      "metadata": {
        "id": "6k0z9HG53Uuq"
      }
    },
    {
      "cell_type": "code",
      "source": [],
      "metadata": {
        "id": "MAtES__j30Fi"
      },
      "execution_count": null,
      "outputs": []
    }
  ]
}